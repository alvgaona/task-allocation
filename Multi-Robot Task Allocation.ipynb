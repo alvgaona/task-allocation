{
 "cells": [
  {
   "cell_type": "markdown",
   "id": "a068e8b4-fdc2-41f0-b6d8-e038368f6ed7",
   "metadata": {},
   "source": [
    "# Multi-robot Task Allocation"
   ]
  },
  {
   "cell_type": "code",
   "execution_count": 48,
   "id": "8e9e3e1f-c757-43ec-b2db-38d74afef708",
   "metadata": {},
   "outputs": [
    {
     "ename": "LoadError",
     "evalue": "ArgumentError: Package Latexify not found in current path.\n- Run `import Pkg; Pkg.add(\"Latexify\")` to install the Latexify package.",
     "output_type": "error",
     "traceback": [
      "ArgumentError: Package Latexify not found in current path.\n- Run `import Pkg; Pkg.add(\"Latexify\")` to install the Latexify package.",
      "",
      "Stacktrace:",
      " [1] macro expansion",
      "   @ ./loading.jl:1772 [inlined]",
      " [2] macro expansion",
      "   @ ./lock.jl:267 [inlined]",
      " [3] __require(into::Module, mod::Symbol)",
      "   @ Base ./loading.jl:1753",
      " [4] #invoke_in_world#3",
      "   @ ./essentials.jl:926 [inlined]",
      " [5] invoke_in_world",
      "   @ ./essentials.jl:923 [inlined]",
      " [6] require(into::Module, mod::Symbol)",
      "   @ Base ./loading.jl:1746"
     ]
    }
   ],
   "source": [
    "using Symbolics\n",
    "using Test\n",
    "using Plots\n",
    "using Latexify\n",
    "using LaTeXStrings"
   ]
  },
  {
   "cell_type": "code",
   "execution_count": 46,
   "id": "1e36aaed-3280-493d-9496-7e574cfe1f92",
   "metadata": {},
   "outputs": [],
   "source": [
    "function forward_pose(r)\n",
    "    x₁, y₁, θ₁, x₂, y₂, θ₂ = r\n",
    "\n",
    "    a = x₁ - x₂\n",
    "    b = y₁ - y₂\n",
    "\n",
    "    xᶜ = (x₁ + x₂) / 2\n",
    "    yᶜ = (y₁ + y₂) / 2\n",
    "    d = (1 / 2) * sqrt(a^2 + b^2)\n",
    "\n",
    "    θᶜ = atan(a,b)\n",
    "\n",
    "    ϕ₁ = θ₁ - θᶜ\n",
    "    ϕ₂ = θ₂ - θᶜ\n",
    "    \n",
    "    return xᶜ, yᶜ, d, θᶜ, ϕ₁, ϕ₂\n",
    "end\n",
    "\n",
    "function inverse_pose(c)\n",
    "    xᶜ, yᶜ, d, θᶜ, ϕ₁, ϕ₂ = c\n",
    "\n",
    "    x₁ = xᶜ + d * sin(θᶜ)\n",
    "    x₂ = xᶜ - d * sin(θᶜ)\n",
    "\n",
    "    y₁ = yᶜ + d * cos(θᶜ)\n",
    "    y₂ = yᶜ - d * cos(θᶜ)\n",
    "\n",
    "    θ₁ = θᶜ + ϕ₁\n",
    "    θ₂ = θᶜ + ϕ₂\n",
    "\n",
    "    return x₁, y₁, θ₁, x₂, y₂, θ₂\n",
    "end;"
   ]
  },
  {
   "cell_type": "code",
   "execution_count": 47,
   "id": "49e429fc-8832-416d-8649-8ccef8f168f0",
   "metadata": {},
   "outputs": [
    {
     "data": {
      "text/plain": [
       "\u001b[32m\u001b[1mTest Passed\u001b[22m\u001b[39m"
      ]
     },
     "execution_count": 47,
     "metadata": {},
     "output_type": "execute_result"
    }
   ],
   "source": [
    "function test_forward_pose()\n",
    "    robots_pose = [3.5, -2.2, 1.0, 0.0, 3.4, 33.3]\n",
    "\n",
    "    cluster_pose = forward_pose(robots_pose)\n",
    "\n",
    "    @test all(isapprox.(cluster_pose, [1.75, 0.6, 3.3018, 2.5829, -1.5829, 30.7170], atol=1e-3))\n",
    "end\n",
    "\n",
    "function test_inverse_pose()\n",
    "    cluster_pose = [1.75, 0.6, 3.3018, 2.5829, -1.5829, 30.7170]\n",
    "    robots_pose = inverse_pose(cluster_pose)\n",
    "\n",
    "    @test all(isapprox.(robots_pose, [3.5, -2.2, 1.0, 0.0, 3.4, 33.3], atol=1e-3))\n",
    "end\n",
    "\n",
    "test_forward_pose()\n",
    "test_inverse_pose()"
   ]
  },
  {
   "cell_type": "code",
   "execution_count": 59,
   "id": "8cc119bf-6e37-4f50-b115-2a6cc2a9d635",
   "metadata": {},
   "outputs": [
    {
     "data": {
      "text/latex": [
       "$$ \\begin{equation}\n",
       "\\left[\n",
       "\\begin{array}{c}\n",
       "x_1 \\\\\n",
       "x_2 \\\\\n",
       "x_3 \\\\\n",
       "y_1 \\\\\n",
       "y_2 \\\\\n",
       "y_3 \\\\\n",
       "\\alpha \\\\\n",
       "\\end{array}\n",
       "\\right]\n",
       "\\end{equation}\n",
       " $$"
      ],
      "text/plain": [
       "7-element Vector{Num}:\n",
       " x₁\n",
       " x₂\n",
       " x₃\n",
       " y₁\n",
       " y₂\n",
       " y₃\n",
       "  α"
      ]
     },
     "execution_count": 59,
     "metadata": {},
     "output_type": "execute_result"
    }
   ],
   "source": [
    "@variables x₁ x₂ x₃ y₁ y₂ y₃ α"
   ]
  },
  {
   "cell_type": "code",
   "execution_count": 60,
   "id": "477d7ff7-ffe8-4323-a771-19709fefea6f",
   "metadata": {},
   "outputs": [
    {
     "data": {
      "text/latex": [
       "$$ \\begin{equation}\n",
       "\\arctan\\left( \\left(  - x_1 + x_3 \\right) \\sin\\left( \\alpha \\right) + \\left(  - y_1 + y_3 \\right) \\cos\\left( \\alpha \\right), \\left(  - x_1 + x_3 \\right) \\cos\\left( \\alpha \\right) - \\left(  - y_1 + y_3 \\right) \\sin\\left( \\alpha \\right) \\right)\n",
       "\\end{equation}\n",
       " $$"
      ],
      "text/plain": [
       "atan((-x₁ + x₃)*sin(α) + (-y₁ + y₃)*cos(α), (-x₁ + x₃)*cos(α) - (-y₁ + y₃)*sin(α))"
      ]
     },
     "execution_count": 60,
     "metadata": {},
     "output_type": "execute_result"
    }
   ],
   "source": [
    "β = atan((x₃-x₁)*sin(α) + (y₃ - y₁)*cos(α), (x₃-x₁)*cos(α) - (y₃-y₁) * sin(α))"
   ]
  },
  {
   "cell_type": "code",
   "execution_count": 63,
   "id": "cba82c64-0938-4fec-a4aa-0ad0ec234997",
   "metadata": {},
   "outputs": [
    {
     "data": {
      "text/latex": [
       "$$ \\begin{equation}\n",
       "\\frac{ - \\left( \\left(  - x_1 + x_3 \\right) \\cos\\left( \\alpha \\right) - \\left(  - y_1 + y_3 \\right) \\sin\\left( \\alpha \\right) \\right) \\sin\\left( \\alpha \\right)}{\\left( \\left(  - x_1 + x_3 \\right) \\cos\\left( \\alpha \\right) - \\left(  - y_1 + y_3 \\right) \\sin\\left( \\alpha \\right) \\right)^{2} + \\left( \\left(  - x_1 + x_3 \\right) \\sin\\left( \\alpha \\right) + \\left(  - y_1 + y_3 \\right) \\cos\\left( \\alpha \\right) \\right)^{2}} + \\frac{ - \\left(  - \\left(  - x_1 + x_3 \\right) \\sin\\left( \\alpha \\right) - \\left(  - y_1 + y_3 \\right) \\cos\\left( \\alpha \\right) \\right) \\cos\\left( \\alpha \\right)}{\\left( \\left(  - x_1 + x_3 \\right) \\cos\\left( \\alpha \\right) - \\left(  - y_1 + y_3 \\right) \\sin\\left( \\alpha \\right) \\right)^{2} + \\left( \\left(  - x_1 + x_3 \\right) \\sin\\left( \\alpha \\right) + \\left(  - y_1 + y_3 \\right) \\cos\\left( \\alpha \\right) \\right)^{2}}\n",
       "\\end{equation}\n",
       " $$"
      ],
      "text/plain": [
       "(-((-x₁ + x₃)*cos(α) - (-y₁ + y₃)*sin(α))*sin(α)) / (((-x₁ + x₃)*cos(α) - (-y₁ + y₃)*sin(α))^2 + ((-x₁ + x₃)*sin(α) + (-y₁ + y₃)*cos(α))^2) + (-(-(-x₁ + x₃)*sin(α) - (-y₁ + y₃)*cos(α))*cos(α)) / (((-x₁ + x₃)*cos(α) - (-y₁ + y₃)*sin(α))^2 + ((-x₁ + x₃)*sin(α) + (-y₁ + y₃)*cos(α))^2)"
      ]
     },
     "execution_count": 63,
     "metadata": {},
     "output_type": "execute_result"
    }
   ],
   "source": [
    "D = Differential(x₁)\n",
    "expand_derivatives(D(β))"
   ]
  }
 ],
 "metadata": {
  "kernelspec": {
   "display_name": "Julia 1.10.2",
   "language": "julia",
   "name": "julia-1.10"
  },
  "language_info": {
   "file_extension": ".jl",
   "mimetype": "application/julia",
   "name": "julia",
   "version": "1.10.2"
  }
 },
 "nbformat": 4,
 "nbformat_minor": 5
}
