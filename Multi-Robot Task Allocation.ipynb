{
 "cells": [
  {
   "cell_type": "markdown",
   "id": "a068e8b4-fdc2-41f0-b6d8-e038368f6ed7",
   "metadata": {},
   "source": [
    "# Multi-robot Task Allocation"
   ]
  },
  {
   "cell_type": "code",
   "execution_count": 129,
   "id": "8e9e3e1f-c757-43ec-b2db-38d74afef708",
   "metadata": {},
   "outputs": [],
   "source": [
    "using Symbolics\n",
    "using Test\n",
    "using Plots\n",
    "using Latexify\n",
    "using LaTeXStrings\n",
    "using ForwardDiff: jacobian, gradient, derivative\n",
    "using LinearAlgebra\n",
    "using SparseArrays"
   ]
  },
  {
   "cell_type": "code",
   "execution_count": 109,
   "id": "1e36aaed-3280-493d-9496-7e574cfe1f92",
   "metadata": {},
   "outputs": [],
   "source": [
    "function forward_pose(r)\n",
    "    x₁, y₁, θ₁, x₂, y₂, θ₂ = r\n",
    "\n",
    "    a = x₁ - x₂\n",
    "    b = y₁ - y₂\n",
    "\n",
    "    xᶜ = (x₁ + x₂) / 2\n",
    "    yᶜ = (y₁ + y₂) / 2\n",
    "    d = (1 / 2) * sqrt(a^2 + b^2)\n",
    "\n",
    "    θᶜ = atan(a,b)\n",
    "\n",
    "    ϕ₁ = θ₁ - θᶜ\n",
    "    ϕ₂ = θ₂ - θᶜ\n",
    "    \n",
    "    return xᶜ, yᶜ, d, θᶜ, ϕ₁, ϕ₂\n",
    "end\n",
    "\n",
    "function inverse_pose(c)\n",
    "    xᶜ, yᶜ, d, θᶜ, ϕ₁, ϕ₂ = c\n",
    "\n",
    "    x₁ = xᶜ + d * sin(θᶜ)\n",
    "    x₂ = xᶜ - d * sin(θᶜ)\n",
    "\n",
    "    y₁ = yᶜ + d * cos(θᶜ)\n",
    "    y₂ = yᶜ - d * cos(θᶜ)\n",
    "\n",
    "    θ₁ = θᶜ + ϕ₁\n",
    "    θ₂ = θᶜ + ϕ₂\n",
    "\n",
    "    return x₁, y₁, θ₁, x₂, y₂, θ₂\n",
    "end;"
   ]
  },
  {
   "cell_type": "code",
   "execution_count": 110,
   "id": "49e429fc-8832-416d-8649-8ccef8f168f0",
   "metadata": {},
   "outputs": [
    {
     "data": {
      "text/plain": [
       "\u001b[32m\u001b[1mTest Passed\u001b[22m\u001b[39m"
      ]
     },
     "execution_count": 110,
     "metadata": {},
     "output_type": "execute_result"
    }
   ],
   "source": [
    "function test_forward_pose()\n",
    "    robots_pose = [3.5, -2.2, 1.0, 0.0, 3.4, 33.3]\n",
    "\n",
    "    cluster_pose = forward_pose(robots_pose)\n",
    "\n",
    "    @test all(isapprox.(cluster_pose, [1.75, 0.6, 3.3018, 2.5829, -1.5829, 30.7170], atol=1e-3))\n",
    "end\n",
    "\n",
    "function test_inverse_pose()\n",
    "    cluster_pose = [1.75, 0.6, 3.3018, 2.5829, -1.5829, 30.7170]\n",
    "    robots_pose = inverse_pose(cluster_pose)\n",
    "\n",
    "    @test all(isapprox.(robots_pose, [3.5, -2.2, 1.0, 0.0, 3.4, 33.3], atol=1e-3))\n",
    "end\n",
    "\n",
    "test_forward_pose()\n",
    "test_inverse_pose()"
   ]
  },
  {
   "cell_type": "code",
   "execution_count": 111,
   "id": "bf6806a1-b0e1-4b1a-b9dd-b2b7b69ce3e5",
   "metadata": {},
   "outputs": [
    {
     "data": {
      "text/plain": [
       "3"
      ]
     },
     "execution_count": 111,
     "metadata": {},
     "output_type": "execute_result"
    }
   ],
   "source": [
    "num_robots = 1  # Number of robots\n",
    "num_tasks = 3  # Number of tasks\n",
    "DOF = 3  # Number of Degrees of Freedom (DOF)\n",
    "control_dim = 3  # Control vector dimension"
   ]
  },
  {
   "cell_type": "code",
   "execution_count": 112,
   "id": "30649d0b-eaf4-4cdf-8f9c-91ad5fdda2b4",
   "metadata": {},
   "outputs": [],
   "source": [
    "T = 100\n",
    "t = 0:T/100:100\n",
    "\n",
    "Izz = 1\n",
    "m = 10\n",
    "bx = 5\n",
    "by = 5\n",
    "bθ = 1\n",
    "\n",
    "goals = [\n",
    "    10 10 3*π/2;\n",
    "    15 10 3*π/2;\n",
    "    10 15 3*π/2\n",
    "]\n",
    "\n",
    "# A, B = ...\n",
    "# ss = ...\n",
    "\n",
    "r = zeros(T, 2 * DOF);\n",
    "rdot = zeros(T, 2 * DOF);\n",
    "\n",
    "r[1,:] = [5 1 0 15 1 0]\n",
    "\n",
    "c = zeros(T, 2 * DOF);\n",
    "cdot = zeros(T, 2 * DOF);"
   ]
  },
  {
   "cell_type": "markdown",
   "id": "04e1246a-d9cb-4580-a82c-584eded5671e",
   "metadata": {},
   "source": [
    "$$\\vec{R} = [x_1, y_1, \\theta_1, x_2, y_2, \\theta_2]^T$$\n",
    "$$\\vec{C} = [x_c, y_c, d,\\theta_c, \\phi_1, \\phi_2]^T$$"
   ]
  },
  {
   "cell_type": "code",
   "execution_count": 113,
   "id": "cbb407ec-3aea-479a-b02a-0cdceeb859c9",
   "metadata": {},
   "outputs": [],
   "source": [
    "function forward_kin_jacobian(robots_pose)\n",
    "    \"\"\"\n",
    "    Compute jacobian matrix based on the forward kinematics relationship\n",
    "    \n",
    "    Arguments:\n",
    "        robots_pose: robots position vector defined as (x₁, y₁, θ₁, x₂, y₂, θ₂)\n",
    "    Returns:\n",
    "        J: jacobian matrix\n",
    "    \"\"\"\n",
    "    f(x) = [\n",
    "        (x[1] + x[4]) / 2;\n",
    "        (x[2] + x[5]) / 2;\n",
    "        1 / 2 * sqrt((x[1] - x[4])^2+(x[2] - x[5])^2);\n",
    "        atan(x[2] - x[5], x[1] - x[4]);\n",
    "        x[3] - atan(x[2] - x[5], x[1] - x[4]);\n",
    "        x[6] - atan(x[2] - x[5], x[1] - x[4]);\n",
    "    ]\n",
    "\n",
    "    return jacobian(f, robots_pose)    \n",
    "end;"
   ]
  },
  {
   "cell_type": "code",
   "execution_count": 114,
   "id": "da4b3a76-4c65-4a27-ae6c-8b5f8e8b9f0b",
   "metadata": {},
   "outputs": [
    {
     "data": {
      "text/plain": [
       "\u001b[32m\u001b[1mTest Passed\u001b[22m\u001b[39m"
      ]
     },
     "execution_count": 114,
     "metadata": {},
     "output_type": "execute_result"
    }
   ],
   "source": [
    "function test_forward_kin_jacobian()\n",
    "    robots_pose = [3.5, -2.2, 1.0, 0, 3.4, 33.3]\n",
    "    J = forward_kin_jacobian(robots_pose)\n",
    "\n",
    "    expected = [\n",
    "        0.5 0 0 0.5 0 0;\n",
    "        0 0.5 0 0 0.5 0;\n",
    "        0.26499947 -0.42399915 0 -0.26499947 0.42399915 0;\n",
    "        0.12841091 0.08025682 0 -0.12841091 -0.08025682 0;\n",
    "        -0.12841091 -0.08025682 1 0.12841091 0.08025682 0;\n",
    "        -0.12841091 -0.08025682 0 0.12841091 0.08025682 1\n",
    "    ]\n",
    "    \n",
    "    @test all(isapprox.(J, expected, atol=1e-3))\n",
    "end\n",
    "\n",
    "test_forward_kin_jacobian()"
   ]
  },
  {
   "cell_type": "code",
   "execution_count": 115,
   "id": "c684ad78-5d95-4a37-81ed-2c6288ca1001",
   "metadata": {},
   "outputs": [],
   "source": [
    "function inverse_kin_jacobian(cluster_pose)\n",
    "    \"\"\"\n",
    "    Compute jacobian matrix based on the inverse kinematics relationship\n",
    "\n",
    "    Arguments:\n",
    "        cluster_pose: cluster position vector defined as (x_c, y_c, d, θ, φ₁, φ₂)\n",
    "    Returns:\n",
    "        J⁻¹: jacobian matrix\n",
    "    \"\"\"\n",
    "    f⁻¹(x) = [\n",
    "        x[1] + x[3] * sin(x[4]);\n",
    "        x[2] + x[3] * cos(x[4]);\n",
    "        x[4] + x[5];\n",
    "        x[1] - x[3] * sin(x[4]);\n",
    "        x[2] - x[3] * cos(x[4]);\n",
    "        x[4] + x[6];\n",
    "    ]\n",
    "\n",
    "    return jacobian(f⁻¹, cluster_pose)    \n",
    "end;"
   ]
  },
  {
   "cell_type": "code",
   "execution_count": 116,
   "id": "ae8e3eb6-eba7-4396-ba19-f43863d85710",
   "metadata": {},
   "outputs": [
    {
     "data": {
      "text/plain": [
       "\u001b[32m\u001b[1mTest Passed\u001b[22m\u001b[39m"
      ]
     },
     "execution_count": 116,
     "metadata": {},
     "output_type": "execute_result"
    }
   ],
   "source": [
    "function test_inverse_kin_jacobian()\n",
    "    cluster_pose = [1.8, 0.6, 3.3, 2.6, -1.6, 30.7]\n",
    "    \n",
    "    J⁻¹ = inverse_kin_jacobian(cluster_pose)\n",
    "    \n",
    "    expected = [\n",
    "        1 0 0.51550137 -2.82773289 0 0;\n",
    "        0 1 -0.85688875 -1.70115453 0 0;\n",
    "        0 0 0 1 1 0;\n",
    "        1 0 -0.51550137 2.82773289 0 0;\n",
    "        0 1 0.85688875 1.70115453 0 0;\n",
    "        0 0 0 1 0 1\n",
    "    ]\n",
    "    \n",
    "    @test all(isapprox.(J⁻¹, expected, atol=1e-3))\n",
    "end\n",
    "\n",
    "test_inverse_kin_jacobian()"
   ]
  },
  {
   "cell_type": "code",
   "execution_count": 117,
   "id": "cbf3d38c-214e-4a90-ae08-2d47c75a4af1",
   "metadata": {},
   "outputs": [],
   "source": [
    "function dot_forward_jacobian(r, dr)\n",
    "    \"\"\"\n",
    "    Compute derivative of the jacobian matrix (forward kinematics relationship) with respect to time t\n",
    "\n",
    "    Arguments:\n",
    "        r: position vector of the robots defined as (x₁, y₁, θ₁, x₂, y₂, θ₂)\n",
    "        dr: velocities vector of the robots defined as (dx₁, dy₁, dθ₁, dx₂, dy₂, dθ₂)\n",
    "    Returns:\n",
    "        Jₜ: jacobian matrix derivative with respect to time t for a given robot positions and velocities\n",
    "    \"\"\"\n",
    "    \n",
    "    x₁, y₁, _, x₂, y₂, _ = r\n",
    "    dx₁, dy₁, _, dx₂, dy₂, _ = dr\n",
    "    \n",
    "    B = (x₁ - x₂) ^ 2 + (y₁ - y₂) ^ 2\n",
    "    \n",
    "    Jₜ = zeros(6, 6)\n",
    "    \n",
    "    Jₜ[3, :] = 1 / (2 * B^(3 / 2)) * [\n",
    "        (y₁ - y₂) * ((y₁ - y₂) * (dx₁ - dx₂) - (x₁ - x₂) * (dy₁ - dy₂)),\n",
    "        (x₁ - x₂) * (-(y₁ - y₂) * (dx₁ - dx₂) + (x₁ - x₂) * (dy₁ - dy₂)),\n",
    "        0,\n",
    "        (y₁ - y₂) * (-(y₁ - y₂) * (dx₁ - dx₂) + (x₁ - x₂) * (dy₁ - dy₂)),\n",
    "        -(x₁ - x₂) * (-(y₁ - y₂) * (dx₁ - dx₂) + (x₁ - x₂) * (dy₁ - dy₂)),\n",
    "        0\n",
    "    ]\n",
    "    \n",
    "    Jₜ[4, :] = (1 / B^2) * [\n",
    "        2 * (x₁ - x₂) * (y₁ - y₂) * dx₁ - 2 * (x₁ - x₂) * (y₁ - y₂) * dx₂ - (x₁ - x₂ + y₁ - y₂) * (x₁ - x₂ - y₁ + y₂) *\n",
    "        (dy₁ - dy₂),\n",
    "        B * (dx₁ - dx₂) - (x₁ - x₂) * (2 * (x₁ - x₂) * (dx₁ - dx₂) + 2 * (y₁ - y₂) * (dy₁ - dy₂)),\n",
    "        0,\n",
    "        -2 * (x₁ - x₂) * (y₁ - y₂) * dx₁ + 2 * (x₁ - x₂) * (y₁ - y₂) * dx₂ + (x₁ - x₂ + y₁ - y₂) * (x₁ - x₂ - y₁ + y₂) *\n",
    "        (dy₁ - dy₂),\n",
    "        B * (-dx₁ + dx₂) - (-x₁ + x₂) * (2 * (x₁ - x₂) * (dx₁ - dx₂) + 2 * (y₁ - y₂) * (dy₁ - dy₂)),\n",
    "        0\n",
    "    ]\n",
    "    \n",
    "    Jₜ[5, :] = (1 / B^2) * [\n",
    "        -2 * (x₁ - x₂) * (y₁ - y₂) * dx₁ + 2 * (x₁ - x₂) * (y₁ - y₂) * dx₂ + (x₁ - x₂ + y₁ - y₂) * (x₁ - x₂ - y₁ + y₂) *\n",
    "        (dy₁ - dy₂),\n",
    "        B * (-dx₁ + dx₂) - (-x₁ + x₂) * (2 * (x₁ - x₂) * (dx₁ - dx₂) + 2 * (y₁ - y₂) * (dy₁ - dy₂)),\n",
    "        0,\n",
    "        2 * (x₁ - x₂) * (y₁ - y₂) * dx₁ - 2 * (x₁ - x₂) * (y₁ - y₂) * dx₂ - (x₁ - x₂ + y₁ - y₂) * (x₁ - x₂ - y₁ + y₂) *\n",
    "        (dy₁ - dy₂),\n",
    "        B * (dx₁ - dx₂) - (x₁ - x₂) * (2 * (x₁ - x₂) * (dx₁ - dx₂) + 2 * (y₁ - y₂) * (dy₁ - dy₂)),\n",
    "        0\n",
    "    ]\n",
    "\n",
    "    Jₜ[6, :] = (1 / B^2) * [\n",
    "        -2 * (x₁ - x₂) * (y₁ - y₂) * dx₁ + 2 * (x₁ - x₂) * (y₁ - y₂) * dx₂ + (x₁ - x₂ + y₁ - y₂) * (x₁ - x₂ - y₁ + y₂) *\n",
    "        (dy₁ - dy₂),\n",
    "        B * (-dx₁ + dx₂) - (-x₁ + x₂) * (2 * (x₁ - x₂) * (dx₁ - dx₂) + 2 * (y₁ - y₂) * (dy₁ - dy₂)),\n",
    "        0,\n",
    "        2 * (x₁ - x₂) * (y₁ - y₂) * dx₁ - 2 * (x₁ - x₂) * (y₁ - y₂) * dx₂ - (x₁ - x₂ + y₁ - y₂) * (x₁ - x₂ - y₁ + y₂) *\n",
    "        (dy₁ - dy₂),\n",
    "        B * (dx₁ - dx₂) - (x₁ - x₂) * (2 * (x₁ - x₂) * (dx₁ - dx₂) + 2 * (y₁ - y₂) * (dy₁ - dy₂)),\n",
    "        0\n",
    "    ]\n",
    "    \n",
    "    return Jₜ\n",
    "end;"
   ]
  },
  {
   "cell_type": "code",
   "execution_count": 118,
   "id": "5dfb8543-851f-4874-be61-99d19991fb4f",
   "metadata": {},
   "outputs": [
    {
     "data": {
      "text/plain": [
       "\u001b[32m\u001b[1mTest Passed\u001b[22m\u001b[39m"
      ]
     },
     "execution_count": 118,
     "metadata": {},
     "output_type": "execute_result"
    }
   ],
   "source": [
    "function test_dot_forward_jacobian()\n",
    "    robots_pose = [3.5, -2.2, 1.0, 0, 3.4, 33.3]\n",
    "    robots_velocities = [-1.2, 2, 1.0, 2.2, -3.4, -1.0]\n",
    "    \n",
    "    Jₜ = dot_forward_jacobian(robots_pose, robots_velocities)\n",
    "    \n",
    "    expected = [\n",
    "        0 0 0 0 0 0;\n",
    "        0 0 0 0 0 0;\n",
    "        -0.00136115 -0.00085072 0 0.00136115 0.00085072 0;\n",
    "        0.1243401 0.0771393 0 -0.1243401 -0.0771393 0;\n",
    "        -0.1243401 -0.0771393 0 0.1243401 0.0771393 0;\n",
    "        -0.1243401 -0.0771393 0 0.1243401 0.0771393 0\n",
    "    ]\n",
    "    \n",
    "    @test all(isapprox.(Jₜ, expected, atol=1e-3))\n",
    "end\n",
    "\n",
    "test_dot_forward_jacobian()"
   ]
  },
  {
   "cell_type": "code",
   "execution_count": 140,
   "id": "b46ae9b8-800e-4689-81df-ef8ffb7f8c03",
   "metadata": {},
   "outputs": [],
   "source": [
    "function cluster_matrices(m, Izz, bx, by, bθ)\n",
    "    Aᵢ = sparse(diagm([m, m, Izz]))\n",
    "    Bᵢ = sparse(diagm([bx, by, bθ]))\n",
    "       \n",
    "    return blockdiag(Aᵢ, Aᵢ), blockdiag(Bᵢ, Bᵢ)\n",
    "end;"
   ]
  },
  {
   "cell_type": "code",
   "execution_count": 142,
   "id": "cbe0baab-0e48-495e-a4a1-5484ff252bf3",
   "metadata": {},
   "outputs": [
    {
     "data": {
      "text/plain": [
       "\u001b[32m\u001b[1mTest Passed\u001b[22m\u001b[39m"
      ]
     },
     "execution_count": 142,
     "metadata": {},
     "output_type": "execute_result"
    }
   ],
   "source": [
    "function test_cluster_matrices()\n",
    "    Izz = 1\n",
    "    m = 10\n",
    "    bx = 5\n",
    "    by = 5\n",
    "    bθ = 1\n",
    "\n",
    "    A, B = cluster_matrices(m, Izz, bx, by, bθ)\n",
    "    \n",
    "    Aᵢ = sparse(diagm([10, 10, 1]))\n",
    "    Bᵢ = sparse(diagm([5, 5, 1]))\n",
    "\n",
    "    @test all(isapprox.(A, blockdiag(Aᵢ, Aᵢ), atol=1e-3))\n",
    "    @test all(isapprox.(B, blockdiag(Bᵢ, Bᵢ), atol=1e-3))\n",
    "end\n",
    "\n",
    "test_cluster_matrices()"
   ]
  },
  {
   "cell_type": "code",
   "execution_count": 149,
   "id": "a65830e5-3c8c-4e74-93f2-b64d77e1fa1d",
   "metadata": {},
   "outputs": [],
   "source": [
    "function cluster_state_space(m, Izz, bx, by, bθ)\n",
    "    Ai = sparse([\n",
    "        0 0 0 1 0 0;\n",
    "        0 0 0 0 1 0;\n",
    "        0 0 0 0 0 1;\n",
    "        0 0 0 -bx / m 0 0;\n",
    "        0 0 0 0 -by / m 0;\n",
    "        0 0 0 0 0 -bθ / Izz\n",
    "    ])\n",
    "    \n",
    "    Bi = sparse([\n",
    "        0 0 0;\n",
    "        0 0 0;\n",
    "        0 0 0;\n",
    "        1/m 0 0;\n",
    "        0 1/m 0;\n",
    "        0 0 1/Izz\n",
    "    ])\n",
    "    \n",
    "    A = blockdiag(Ai, Ai)\n",
    "    B = blockdiag(Bi, Bi)\n",
    "    \n",
    "    C = sparse(I(12))\n",
    "    D = sparse(zeros(12, 6))\n",
    "    \n",
    "    return A, B, C, D\n",
    "end;"
   ]
  },
  {
   "cell_type": "code",
   "execution_count": 150,
   "id": "77dac6d7-8d01-47f8-b455-68d6bc7e4a67",
   "metadata": {},
   "outputs": [
    {
     "data": {
      "text/plain": [
       "\u001b[32m\u001b[1mTest Passed\u001b[22m\u001b[39m"
      ]
     },
     "execution_count": 150,
     "metadata": {},
     "output_type": "execute_result"
    }
   ],
   "source": [
    "function test_cluster_state_space()\n",
    "    Izz = 1\n",
    "    m = 10\n",
    "    bx = 5\n",
    "    by = 5\n",
    "    bθ = 1\n",
    "        \n",
    "    A, B, C, D = cluster_state_space(m, Izz, bx, by, bθ)\n",
    "\n",
    "    Aᵢ = sparse([\n",
    "        0 0 0 1 0 0;\n",
    "        0 0 0 0 1 0;\n",
    "        0 0 0 0 0 1;\n",
    "        0 0 0 -0.5 0 0;\n",
    "        0 0 0 0 -0.5 0;\n",
    "        0 0 0 0 0 -1\n",
    "    ])\n",
    "    \n",
    "    Bᵢ = sparse([\n",
    "        0 0 0\n",
    "        0 0 0\n",
    "        0 0 0\n",
    "        0.1 0 0\n",
    "        0 0.1 0\n",
    "        0 0 1\n",
    "    ])\n",
    "\n",
    "    @test all(isapprox.(A, blockdiag(Aᵢ, Aᵢ), atol=1e-3))\n",
    "    @test all(isapprox.(B, blockdiag(Bᵢ, Bᵢ), atol=1e-3))\n",
    "    @test all(isapprox.(C, I(12), atol=1e-3))\n",
    "    @test all(isapprox.(D, zeros(12,6), atol=1e-3))\n",
    "end\n",
    "\n",
    "test_cluster_state_space()"
   ]
  }
 ],
 "metadata": {
  "kernelspec": {
   "display_name": "Julia 1.10.2",
   "language": "julia",
   "name": "julia-1.10"
  },
  "language_info": {
   "file_extension": ".jl",
   "mimetype": "application/julia",
   "name": "julia",
   "version": "1.10.2"
  }
 },
 "nbformat": 4,
 "nbformat_minor": 5
}
