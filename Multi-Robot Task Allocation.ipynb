{
 "cells": [
  {
   "cell_type": "markdown",
   "id": "a068e8b4-fdc2-41f0-b6d8-e038368f6ed7",
   "metadata": {},
   "source": [
    "# Multi-robot Task Allocation"
   ]
  },
  {
   "cell_type": "code",
   "execution_count": 2,
   "id": "8e9e3e1f-c757-43ec-b2db-38d74afef708",
   "metadata": {},
   "outputs": [
    {
     "name": "stderr",
     "output_type": "stream",
     "text": [
      "\u001b[32m\u001b[1mPrecompiling\u001b[22m\u001b[39m Symbolics\n",
      "\u001b[36m\u001b[1m        Info\u001b[22m\u001b[39m Given Symbolics was explicitly requested, output will be shown live \u001b[0K\n",
      "\u001b[0KWARNING: Method definition getname(Symbol) in module SymbolicIndexingInterface at /Users/agaona/.julia/packages/SymbolicIndexingInterface/hDTd3/src/trait.jl:64 overwritten in module Symbolics at /Users/agaona/.julia/packages/Symbolics/CZLSO/src/wrapper-types.jl:20.\n",
      "\u001b[0KERROR: Method overwriting is not permitted during Module precompilation. Use `__precompile__(false)` to opt-out of precompilation.\n",
      "\u001b[33m  ? \u001b[39mSymbolics\n",
      "\u001b[33m  ? \u001b[39m\u001b[90mSymbolics → SymbolicsPreallocationToolsExt\u001b[39m\n",
      "\u001b[36m\u001b[1m[ \u001b[22m\u001b[39m\u001b[36m\u001b[1mInfo: \u001b[22m\u001b[39mPrecompiling Symbolics [0c5d862f-8b57-4792-8d23-62f2024744c7]\n",
      "WARNING: Method definition getname(Symbol) in module SymbolicIndexingInterface at /Users/agaona/.julia/packages/SymbolicIndexingInterface/hDTd3/src/trait.jl:64 overwritten in module Symbolics at /Users/agaona/.julia/packages/Symbolics/CZLSO/src/wrapper-types.jl:20.\n",
      "ERROR: Method overwriting is not permitted during Module precompilation. Use `__precompile__(false)` to opt-out of precompilation.\n",
      "\u001b[36m\u001b[1m[ \u001b[22m\u001b[39m\u001b[36m\u001b[1mInfo: \u001b[22m\u001b[39mSkipping precompilation since __precompile__(false). Importing Symbolics [0c5d862f-8b57-4792-8d23-62f2024744c7].\n",
      "\u001b[32m\u001b[1mPrecompiling\u001b[22m\u001b[39m SymbolicsPreallocationToolsExt\n",
      "\u001b[33m  ? \u001b[39mSymbolics\n",
      "\u001b[36m\u001b[1m        Info\u001b[22m\u001b[39m Given SymbolicsPreallocationToolsExt was explicitly requested, output will be shown live \u001b[0K\n",
      "\u001b[0KWARNING: Method definition getname(Symbol) in module SymbolicIndexingInterface at /Users/agaona/.julia/packages/SymbolicIndexingInterface/hDTd3/src/trait.jl:64 overwritten in module Symbolics at /Users/agaona/.julia/packages/Symbolics/CZLSO/src/wrapper-types.jl:20.\n",
      "\u001b[0KERROR: Method overwriting is not permitted during Module precompilation. Use `__precompile__(false)` to opt-out of precompilation.\n",
      "\u001b[33m  ? \u001b[39m\u001b[90mSymbolics → SymbolicsPreallocationToolsExt\u001b[39m\n",
      "\u001b[36m\u001b[1m[ \u001b[22m\u001b[39m\u001b[36m\u001b[1mInfo: \u001b[22m\u001b[39mPrecompiling SymbolicsPreallocationToolsExt [d479e226-fb54-5ebe-a75e-a7af7f39127f]\n",
      "\u001b[33m\u001b[1m┌ \u001b[22m\u001b[39m\u001b[33m\u001b[1mWarning: \u001b[22m\u001b[39mModule Symbolics with build ID ffffffff-ffff-ffff-0003-55387b5ceb5f is missing from the cache.\n",
      "\u001b[33m\u001b[1m│ \u001b[22m\u001b[39mThis may mean Symbolics [0c5d862f-8b57-4792-8d23-62f2024744c7] does not support precompilation but is imported by a module that does.\n",
      "\u001b[33m\u001b[1m└ \u001b[22m\u001b[39m\u001b[90m@ Base loading.jl:1948\u001b[39m\n",
      "\u001b[36m\u001b[1m[ \u001b[22m\u001b[39m\u001b[36m\u001b[1mInfo: \u001b[22m\u001b[39mSkipping precompilation since __precompile__(false). Importing SymbolicsPreallocationToolsExt [d479e226-fb54-5ebe-a75e-a7af7f39127f].\n"
     ]
    }
   ],
   "source": [
    "using Symbolics\n",
    "using Test\n",
    "using Plots\n",
    "using Latexify\n",
    "using LaTeXStrings\n",
    "using ForwardDiff: jacobian, gradient, derivative"
   ]
  },
  {
   "cell_type": "code",
   "execution_count": 2,
   "id": "1e36aaed-3280-493d-9496-7e574cfe1f92",
   "metadata": {},
   "outputs": [],
   "source": [
    "function forward_pose(r)\n",
    "    x₁, y₁, θ₁, x₂, y₂, θ₂ = r\n",
    "\n",
    "    a = x₁ - x₂\n",
    "    b = y₁ - y₂\n",
    "\n",
    "    xᶜ = (x₁ + x₂) / 2\n",
    "    yᶜ = (y₁ + y₂) / 2\n",
    "    d = (1 / 2) * sqrt(a^2 + b^2)\n",
    "\n",
    "    θᶜ = atan(a,b)\n",
    "\n",
    "    ϕ₁ = θ₁ - θᶜ\n",
    "    ϕ₂ = θ₂ - θᶜ\n",
    "    \n",
    "    return xᶜ, yᶜ, d, θᶜ, ϕ₁, ϕ₂\n",
    "end\n",
    "\n",
    "function inverse_pose(c)\n",
    "    xᶜ, yᶜ, d, θᶜ, ϕ₁, ϕ₂ = c\n",
    "\n",
    "    x₁ = xᶜ + d * sin(θᶜ)\n",
    "    x₂ = xᶜ - d * sin(θᶜ)\n",
    "\n",
    "    y₁ = yᶜ + d * cos(θᶜ)\n",
    "    y₂ = yᶜ - d * cos(θᶜ)\n",
    "\n",
    "    θ₁ = θᶜ + ϕ₁\n",
    "    θ₂ = θᶜ + ϕ₂\n",
    "\n",
    "    return x₁, y₁, θ₁, x₂, y₂, θ₂\n",
    "end;"
   ]
  },
  {
   "cell_type": "code",
   "execution_count": 3,
   "id": "49e429fc-8832-416d-8649-8ccef8f168f0",
   "metadata": {},
   "outputs": [
    {
     "data": {
      "text/plain": [
       "\u001b[32m\u001b[1mTest Passed\u001b[22m\u001b[39m"
      ]
     },
     "execution_count": 3,
     "metadata": {},
     "output_type": "execute_result"
    }
   ],
   "source": [
    "function test_forward_pose()\n",
    "    robots_pose = [3.5, -2.2, 1.0, 0.0, 3.4, 33.3]\n",
    "\n",
    "    cluster_pose = forward_pose(robots_pose)\n",
    "\n",
    "    @test all(isapprox.(cluster_pose, [1.75, 0.6, 3.3018, 2.5829, -1.5829, 30.7170], atol=1e-3))\n",
    "end\n",
    "\n",
    "function test_inverse_pose()\n",
    "    cluster_pose = [1.75, 0.6, 3.3018, 2.5829, -1.5829, 30.7170]\n",
    "    robots_pose = inverse_pose(cluster_pose)\n",
    "\n",
    "    @test all(isapprox.(robots_pose, [3.5, -2.2, 1.0, 0.0, 3.4, 33.3], atol=1e-3))\n",
    "end\n",
    "\n",
    "test_forward_pose()\n",
    "test_inverse_pose()"
   ]
  },
  {
   "cell_type": "code",
   "execution_count": 4,
   "id": "bf6806a1-b0e1-4b1a-b9dd-b2b7b69ce3e5",
   "metadata": {},
   "outputs": [
    {
     "data": {
      "text/plain": [
       "3"
      ]
     },
     "execution_count": 4,
     "metadata": {},
     "output_type": "execute_result"
    }
   ],
   "source": [
    "num_robots = 1  # Number of robots\n",
    "num_tasks = 3  # Number of tasks\n",
    "DOF = 3  # Number of Degrees of Freedom (DOF)\n",
    "control_dim = 3  # Control vector dimension"
   ]
  },
  {
   "cell_type": "code",
   "execution_count": 5,
   "id": "30649d0b-eaf4-4cdf-8f9c-91ad5fdda2b4",
   "metadata": {},
   "outputs": [],
   "source": [
    "T = 100\n",
    "t = 0:T/100:100\n",
    "\n",
    "Izz = 1\n",
    "m = 10\n",
    "bx = 5\n",
    "by = 5\n",
    "bθ = 1\n",
    "\n",
    "goals = [\n",
    "    10 10 3*π/2;\n",
    "    15 10 3*π/2;\n",
    "    10 15 3*π/2\n",
    "]\n",
    "\n",
    "# A, B = ...\n",
    "# ss = ...\n",
    "\n",
    "r = zeros(T, 2 * DOF);\n",
    "rdot = zeros(T, 2 * DOF);\n",
    "\n",
    "r[1,:] = [5 1 0 15 1 0]\n",
    "\n",
    "c = zeros(T, 2 * DOF);\n",
    "cdot = zeros(T, 2 * DOF);"
   ]
  },
  {
   "cell_type": "markdown",
   "id": "04e1246a-d9cb-4580-a82c-584eded5671e",
   "metadata": {},
   "source": [
    "$$\\vec{R} = [x_1, y_1, \\theta_1, x_2, y_2, \\theta_2]^T$$\n",
    "$$\\vec{C} = [x_c, y_c, d,\\theta_c, \\phi_1, \\phi_2]^T$$"
   ]
  },
  {
   "cell_type": "code",
   "execution_count": 87,
   "id": "cbb407ec-3aea-479a-b02a-0cdceeb859c9",
   "metadata": {},
   "outputs": [],
   "source": [
    "function forward_kin_jacobian(robots_pose)\n",
    "    \"\"\"\n",
    "    Compute jacobian matrix based on the forward kinematics relationship\n",
    "    \n",
    "    Arguments:\n",
    "        robots_pose: robots position vector defined as (x₁, y₁, θ₁, x₂, y₂, θ₂)\n",
    "    Returns:\n",
    "        J: jacobian matrix\n",
    "    \"\"\"\n",
    "    f(x) = [\n",
    "        (x[1] + x[4]) / 2;\n",
    "        (x[2] + x[5]) / 2;\n",
    "        1 / 2 * sqrt((x[1] - x[4])^2+(x[2] - x[5])^2);\n",
    "        atan(x[2] - x[5], x[1] - x[4]);\n",
    "        x[3] - atan(x[2] - x[5], x[1] - x[4]);\n",
    "        x[6] - atan(x[2] - x[5], x[1] - x[4]);\n",
    "    ]\n",
    "\n",
    "    return jacobian(f, robots_pose)    \n",
    "end;"
   ]
  },
  {
   "cell_type": "code",
   "execution_count": 88,
   "id": "da4b3a76-4c65-4a27-ae6c-8b5f8e8b9f0b",
   "metadata": {},
   "outputs": [
    {
     "data": {
      "text/plain": [
       "\u001b[32m\u001b[1mTest Passed\u001b[22m\u001b[39m"
      ]
     },
     "execution_count": 88,
     "metadata": {},
     "output_type": "execute_result"
    }
   ],
   "source": [
    "function test_forward_kin_jacobian()\n",
    "    robots_pose = [3.5, -2.2, 1.0, 0, 3.4, 33.3]\n",
    "    J = forward_kin_jacobian(robots_pose)\n",
    "\n",
    "    expected = [\n",
    "        0.5 0 0 0.5 0 0;\n",
    "        0 0.5 0 0 0.5 0;\n",
    "        0.26499947 -0.42399915 0 -0.26499947 0.42399915 0;\n",
    "        0.12841091 0.08025682 0 -0.12841091 -0.08025682 0;\n",
    "        -0.12841091 -0.08025682 1 0.12841091 0.08025682 0;\n",
    "        -0.12841091 -0.08025682 0 0.12841091 0.08025682 1\n",
    "    ]\n",
    "    \n",
    "    @test all(isapprox.(J, expected, atol=1e-3))\n",
    "end\n",
    "\n",
    "test_forward_kin_jacobian()"
   ]
  },
  {
   "cell_type": "code",
   "execution_count": 89,
   "id": "c684ad78-5d95-4a37-81ed-2c6288ca1001",
   "metadata": {},
   "outputs": [],
   "source": [
    "function inverse_kin_jacobian(cluster_pose)\n",
    "    \"\"\"\n",
    "    Compute jacobian matrix based on the inverse kinematics relationship\n",
    "\n",
    "    Arguments:\n",
    "        cluster_pose: cluster position vector defined as (x_c, y_c, d, θ, φ₁, φ₂)\n",
    "    Returns:\n",
    "        J⁻¹: jacobian matrix\n",
    "    \"\"\"\n",
    "    f⁻¹(x) = [\n",
    "        x[1] + x[3] * sin(x[4]);\n",
    "        x[2] + x[3] * cos(x[4]);\n",
    "        x[4] + x[5];\n",
    "        x[1] - x[3] * sin(x[4]);\n",
    "        x[2] - x[3] * cos(x[4]);\n",
    "        x[4] + x[6];\n",
    "    ]\n",
    "\n",
    "    return jacobian(f⁻¹, cluster_pose)    \n",
    "end;"
   ]
  },
  {
   "cell_type": "code",
   "execution_count": 96,
   "id": "ae8e3eb6-eba7-4396-ba19-f43863d85710",
   "metadata": {},
   "outputs": [
    {
     "data": {
      "text/plain": [
       "\u001b[32m\u001b[1mTest Passed\u001b[22m\u001b[39m"
      ]
     },
     "execution_count": 96,
     "metadata": {},
     "output_type": "execute_result"
    }
   ],
   "source": [
    "function test_inverse_kin_jacobian()\n",
    "    cluster_pose = [1.8, 0.6, 3.3, 2.6, -1.6, 30.7]\n",
    "    \n",
    "    J⁻¹ = inverse_kin_jacobian(cluster_pose)\n",
    "    \n",
    "    expected = [\n",
    "        1 0 0.51550137 -2.82773289 0 0;\n",
    "        0 1 -0.85688875 -1.70115453 0 0;\n",
    "        0 0 0 1 1 0;\n",
    "        1 0 -0.51550137 2.82773289 0 0;\n",
    "        0 1 0.85688875 1.70115453 0 0;\n",
    "        0 0 0 1 0 1\n",
    "    ]\n",
    "    \n",
    "    @test all(isapprox.(J⁻¹, expected, atol=1e-3))\n",
    "end\n",
    "\n",
    "test_inverse_kin_jacobian()"
   ]
  },
  {
   "cell_type": "code",
   "execution_count": 93,
   "id": "8cc119bf-6e37-4f50-b115-2a6cc2a9d635",
   "metadata": {},
   "outputs": [
    {
     "data": {
      "text/latex": [
       "$$ \\begin{equation}\n",
       "\\frac{ - \\frac{\\mathrm{d} y_1\\left( t \\right)}{\\mathrm{d}t} x_1\\left( t \\right) y_1\\left( t \\right) + \\frac{\\mathrm{d} y_1\\left( t \\right)}{\\mathrm{d}t} x_1\\left( t \\right) y_2\\left( t \\right) + \\frac{\\mathrm{d} y_1\\left( t \\right)}{\\mathrm{d}t} y_1\\left( t \\right) x_2\\left( t \\right) - \\frac{\\mathrm{d} y_1\\left( t \\right)}{\\mathrm{d}t} x_2\\left( t \\right) y_2\\left( t \\right) + \\left( \\sqrt{\\left( x_1\\left( t \\right) - x_2\\left( t \\right) \\right)^{2} + \\left( y_1\\left( t \\right) - y_2\\left( t \\right) \\right)^{2}} \\right)^{2} \\frac{\\mathrm{d} x_1\\left( t \\right)}{\\mathrm{d}t} - \\left( x_1\\left( t \\right) \\right)^{2} \\frac{\\mathrm{d} x_1\\left( t \\right)}{\\mathrm{d}t} + 2 \\frac{\\mathrm{d} x_1\\left( t \\right)}{\\mathrm{d}t} x_1\\left( t \\right) x_2\\left( t \\right) - \\left( x_2\\left( t \\right) \\right)^{2} \\frac{\\mathrm{d} x_1\\left( t \\right)}{\\mathrm{d}t} - \\left( \\sqrt{\\left( x_1\\left( t \\right) - x_2\\left( t \\right) \\right)^{2} + \\left( y_1\\left( t \\right) - y_2\\left( t \\right) \\right)^{2}} \\right)^{2} \\frac{\\mathrm{d} x_2\\left( t \\right)}{\\mathrm{d}t} + \\left( x_1\\left( t \\right) \\right)^{2} \\frac{\\mathrm{d} x_2\\left( t \\right)}{\\mathrm{d}t} + x_1\\left( t \\right) y_1\\left( t \\right) \\frac{\\mathrm{d} y_2\\left( t \\right)}{\\mathrm{d}t} - 2 x_1\\left( t \\right) x_2\\left( t \\right) \\frac{\\mathrm{d} x_2\\left( t \\right)}{\\mathrm{d}t} - x_1\\left( t \\right) \\frac{\\mathrm{d} y_2\\left( t \\right)}{\\mathrm{d}t} y_2\\left( t \\right) - y_1\\left( t \\right) x_2\\left( t \\right) \\frac{\\mathrm{d} y_2\\left( t \\right)}{\\mathrm{d}t} + \\left( x_2\\left( t \\right) \\right)^{2} \\frac{\\mathrm{d} x_2\\left( t \\right)}{\\mathrm{d}t} + x_2\\left( t \\right) \\frac{\\mathrm{d} y_2\\left( t \\right)}{\\mathrm{d}t} y_2\\left( t \\right)}{2 \\left( \\sqrt{\\left( x_1\\left( t \\right) - x_2\\left( t \\right) \\right)^{2} + \\left( y_1\\left( t \\right) - y_2\\left( t \\right) \\right)^{2}} \\right)^{3}}\n",
       "\\end{equation}\n",
       " $$"
      ],
      "text/plain": [
       "(-Differential(t)(y₁(t))*x₁(t)*y₁(t) + Differential(t)(y₁(t))*x₁(t)*y₂(t) + Differential(t)(y₁(t))*y₁(t)*x₂(t) - Differential(t)(y₁(t))*x₂(t)*y₂(t) + Differential(t)(x₁(t))*(sqrt((x₁(t) - x₂(t))^2 + (y₁(t) - y₂(t))^2)^2) - Differential(t)(x₁(t))*(x₁(t)^2) + 2.0Differential(t)(x₁(t))*x₁(t)*x₂(t) - Differential(t)(x₁(t))*(x₂(t)^2) - (sqrt((x₁(t) - x₂(t))^2 + (y₁(t) - y₂(t))^2)^2)*Differential(t)(x₂(t)) + (x₁(t)^2)*Differential(t)(x₂(t)) + x₁(t)*y₁(t)*Differential(t)(y₂(t)) - 2.0x₁(t)*x₂(t)*Differential(t)(x₂(t)) - x₁(t)*Differential(t)(y₂(t))*y₂(t) - y₁(t)*x₂(t)*Differential(t)(y₂(t)) + (x₂(t)^2)*Differential(t)(x₂(t)) + x₂(t)*Differential(t)(y₂(t))*y₂(t)) / (2(sqrt((x₁(t) - x₂(t))^2 + (y₁(t) - y₂(t))^2)^3))"
      ]
     },
     "execution_count": 93,
     "metadata": {},
     "output_type": "execute_result"
    }
   ],
   "source": [
    "@variables t\n",
    "x = @variables x₁(t) y₁(t) θ₁(t) x₂(t) y₂(t) θ₂(t)\n",
    "\n",
    "f = [\n",
    "    (x₁ + x₂) / 2;\n",
    "    (y₁ + y₂) / 2;\n",
    "    1 / 2 * sqrt((x₁ - x₂)^2+(y₁ - y₂)^2);\n",
    "    atan(y₁ - y₂, x₁ - x₂);\n",
    "    θ₁ - atan(y₁ - y₂, x₁ - x₂);\n",
    "    θ₂ - atan(y₁ - y₂, x₁ - x₂);\n",
    "]\n",
    "\n",
    "Symbolics.derivative(Symbolics.jacobian(f, x)[3,1],t, simplify=true)"
   ]
  },
  {
   "cell_type": "code",
   "execution_count": 13,
   "id": "0276db6b-99d4-469f-9da8-32f44c73c5f5",
   "metadata": {},
   "outputs": [],
   "source": [
    "function compute_dot_jacobian_matrix(r, dr)\n",
    "    \"\"\"\n",
    "    Compute derivative of the jacobian matrix (forward kinematics relationship) with respect to time t\n",
    "\n",
    "    Arguments:\n",
    "        r: position vector of the robots defined as (x₁, y₁, θ₁, x₂, y₂, θ₂)\n",
    "        dr: velocities vector of the robots defined as (x₁̇, y₁̇, θ₁̇, x₂̇, y₂̇, θ₂̇)\n",
    "    Returns:\n",
    "        Jdot: jacobian matrix derivative with respect to time t for a given robot positions and velocities\n",
    "    \"\"\"\n",
    "    \n",
    "    x₁, y₁, _, x₂, y₂, _ = r\n",
    "    dx₁, dy₁, _, dx₂, dy₂, _ = dr\n",
    "    \n",
    "    B = (x₁ - x₂) ^ 2 + (y₁ - y₂) ^ 2\n",
    "    \n",
    "    Jdot = zeros(Float64, 6, 6)\n",
    "    \n",
    "    Jdot[3, :] = (1 / 2) * B^(3 / 2) * [\n",
    "        (y₁ - y₂) * ((y₁ - y₂) * (dx₁ - dx₂) - (x₁ - x₂) * (dy₁ - dy₂)),\n",
    "        (x₁ - x₂) * (-(y₁ - y₂) * (x₁̇ - x₂̇) + (x₁ - x₂) * (y₁̇ - y₂̇)),\n",
    "        0,\n",
    "        (y₁ - y₂) * (-(y₁ - y₂) * (x₁̇ - x₂̇) + (x₁ - x₂) * (y₁̇ - y₂̇)),\n",
    "        -(x₁ - x₂) * (-(y₁ - y₂) * (x₁̇ - x₂̇) + (x₁ - x₂) * (y₁̇ - y₂̇)),\n",
    "        0\n",
    "    ]\n",
    "    \n",
    "    Jdot[4, :] = (1 / B^2) * [\n",
    "        2 * (x₁ - x₂) * (y₁ - y₂) * x₁̇ - 2 * (x₁ - x₂) * (y₁ - y₂) * x₂̇ - (x₁ - x₂ + y₁ - y₂) * (x₁ - x₂ - y₁ + y₂) *\n",
    "        (y₁̇ - y₂̇),\n",
    "        B * (x₁̇ - x₂̇) - (x₁ - x₂) * (2 * (x₁ - x₂) * (x₁̇ - x₂̇) + 2 * (y₁ - y₂) * (y₁̇ - y₂̇)),\n",
    "        0,\n",
    "        -2 * (x₁ - x₂) * (y₁ - y₂) * x₁̇ + 2 * (x₁ - x₂) * (y₁ - y₂) * x₂̇ + (x₁ - x₂ + y₁ - y₂) * (x₁ - x₂ - y₁ + y₂) *\n",
    "        (y₁̇ - y₂̇),\n",
    "        B * (-x₁̇ + x₂̇) - (-x₁ + x₂) * (2 * (x₁ - x₂) * (x₁̇ - x₂̇) + 2 * (y₁ - y₂) * (y₁̇ - y₂̇)),\n",
    "        0\n",
    "    ]\n",
    "    \n",
    "    Jdot[5, :] = (1 / B^2) * [\n",
    "        -2 * (x₁ - x₂) * (y₁ - y₂) * x₁̇ + 2 * (x₁ - x₂) * (y₁ - y₂) * x₂̇ + (x₁ - x₂ + y₁ - y₂) * (x₁ - x₂ - y₁ + y₂) *\n",
    "        (y₁̇ - y₂̇),\n",
    "        B * (-x₁̇ + x₂̇) - (-x₁ + x₂) * (2 * (x₁ - x₂) * (x₁̇ - x₂̇) + 2 * (y₁ - y₂) * (y₁̇ - y₂̇)),\n",
    "        0,\n",
    "        2 * (x₁ - x₂) * (y₁ - y₂) * x₁̇ - 2 * (x₁ - x₂) * (y₁ - y₂) * x₂̇ - (x₁ - x₂ + y₁ - y₂) * (x₁ - x₂ - y₁ + y₂) *\n",
    "        (y₁̇ - y₂̇),\n",
    "        B * (x₁̇ - x₂̇) - (x₁ - x₂) * (2 * (x₁ - x₂) * (x₁̇ - x₂̇) + 2 * (y₁ - y₂) * (y₁̇ - y₂̇)),\n",
    "        0\n",
    "    ]\n",
    "    \n",
    "    return Jdot\n",
    "end;"
   ]
  }
 ],
 "metadata": {
  "kernelspec": {
   "display_name": "Julia 1.10.2",
   "language": "julia",
   "name": "julia-1.10"
  },
  "language_info": {
   "file_extension": ".jl",
   "mimetype": "application/julia",
   "name": "julia",
   "version": "1.10.2"
  }
 },
 "nbformat": 4,
 "nbformat_minor": 5
}
